{
 "cells": [
  {
   "cell_type": "code",
   "execution_count": 14,
   "metadata": {},
   "outputs": [],
   "source": [
    "import pandas as pd\n",
    "import os"
   ]
  },
  {
   "cell_type": "code",
   "execution_count": 2,
   "metadata": {},
   "outputs": [],
   "source": [
    "#add a path name macro so that its flexible\n",
    "\n",
    "#define chunk size\n",
    "chunk_size = 200\n",
    "\n",
    "#make iterator object\n",
    "file_reader = pd.read_csv(\"BMTC_Dataset/w1.csv\", chunksize = chunk_size)"
   ]
  },
  {
   "cell_type": "code",
   "execution_count": 17,
   "metadata": {},
   "outputs": [],
   "source": [
    "#read data chunks\n",
    "\n",
    "try:\n",
    "    os.remove(\"drop_excess_columns.csv\")\n",
    "except:\n",
    "    print(\"passed\")\n",
    "#     pass#do nothing if the file is not there anyway\n",
    "\n",
    "# for data_chunk in file_reader:\n",
    "i = 0\n",
    "for i in range(2):\n",
    "    data_chunk = next(file_reader)\n",
    "\n",
    "    #name the columns\n",
    "    data_chunk.columns = ['bus_id','lat','long','something_1','something_2','time']\n",
    "\n",
    "    #drop the extra columns\n",
    "    data_chunk = data_chunk.drop(columns = [\"something_1\",\"something_2\"])\n",
    "\n",
    "    #write the chunk into the file\n",
    "    #2 cases to ensure that the header is written only once\n",
    "    if i == 0:\n",
    "        data_chunk.to_csv(\"drop_excess_columns.csv\",mode = 'a')\n",
    "    else:\n",
    "        data_chunk.to_csv(\"drop_excess_columns.csv\",mode = 'a',header = None)\n",
    "    #BMTC_Dataset/drop_excess_columns.csv"
   ]
  },
  {
   "cell_type": "code",
   "execution_count": null,
   "metadata": {},
   "outputs": [],
   "source": []
  }
 ],
 "metadata": {
  "kernelspec": {
   "display_name": "Python 3",
   "language": "python",
   "name": "python3"
  },
  "language_info": {
   "codemirror_mode": {
    "name": "ipython",
    "version": 3
   },
   "file_extension": ".py",
   "mimetype": "text/x-python",
   "name": "python",
   "nbconvert_exporter": "python",
   "pygments_lexer": "ipython3",
   "version": "3.5.2"
  }
 },
 "nbformat": 4,
 "nbformat_minor": 2
}
