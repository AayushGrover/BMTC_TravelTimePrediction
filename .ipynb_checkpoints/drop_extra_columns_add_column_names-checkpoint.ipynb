{
 "cells": [
  {
   "cell_type": "code",
   "execution_count": 1,
   "metadata": {},
   "outputs": [
    {
     "name": "stderr",
     "output_type": "stream",
     "text": [
      "/home/aditya/Courses/sem5/ml/tutorials/ve_for_ml/lib/python3.5/importlib/_bootstrap.py:222: RuntimeWarning: numpy.dtype size changed, may indicate binary incompatibility. Expected 96, got 88\n",
      "  return f(*args, **kwds)\n",
      "/home/aditya/Courses/sem5/ml/tutorials/ve_for_ml/lib/python3.5/importlib/_bootstrap.py:222: RuntimeWarning: numpy.dtype size changed, may indicate binary incompatibility. Expected 96, got 88\n",
      "  return f(*args, **kwds)\n"
     ]
    }
   ],
   "source": [
    "import pandas as pd\n",
    "import os"
   ]
  },
  {
   "cell_type": "code",
   "execution_count": 2,
   "metadata": {},
   "outputs": [],
   "source": [
    "%store -r PATH_TO_DATA_FOLDER\n",
    "\n",
    "#define chunk size\n",
    "chunk_size = 10**5\n",
    "\n",
    "#make iterator object\n",
    "file_reader = pd.read_csv(PATH_TO_DATA_FOLDER+\"/w1.csv\", chunksize = chunk_size)"
   ]
  },
  {
   "cell_type": "code",
   "execution_count": 4,
   "metadata": {},
   "outputs": [
    {
     "name": "stdout",
     "output_type": "stream",
     "text": [
      "File wasn't there before\n"
     ]
    }
   ],
   "source": [
    "#read data chunks\n",
    "\n",
    "#remove file in case it already exists since open in append mode\n",
    "try:\n",
    "    os.remove(PATH_TO_DATA_FOLDER + \"/reduced_columns.csv\")\n",
    "except:\n",
    "    print(\"File wasn't there before\")\n",
    "\n",
    "i = 0\n",
    "for data_chunk in file_reader:\n",
    "\n",
    "    #name the columns\n",
    "    data_chunk.columns = ['bus_id','lat','long','something_1','something_2','time']\n",
    "\n",
    "    #drop the extra columns\n",
    "    data_chunk = data_chunk.drop(columns = [\"something_1\",\"something_2\"])\n",
    "\n",
    "    #write the chunk into the file, add the header only once\n",
    "    if i == 0:\n",
    "        data_chunk.to_csv(PATH_TO_DATA_FOLDER + \"/reduced_columns.csv\",mode = 'a')\n",
    "    else:\n",
    "        data_chunk.to_csv(PATH_TO_DATA_FOLDER + \"/reduced_columns.csv\",mode = 'a',header = None)\n",
    "    i += 1\n",
    "\n",
    "print(i)"
   ]
  },
  {
   "cell_type": "code",
   "execution_count": null,
   "metadata": {},
   "outputs": [],
   "source": []
  }
 ],
 "metadata": {
  "kernelspec": {
   "display_name": "Python 3",
   "language": "python",
   "name": "python3"
  },
  "language_info": {
   "codemirror_mode": {
    "name": "ipython",
    "version": 3
   },
   "file_extension": ".py",
   "mimetype": "text/x-python",
   "name": "python",
   "nbconvert_exporter": "python",
   "pygments_lexer": "ipython3",
   "version": "3.5.2"
  }
 },
 "nbformat": 4,
 "nbformat_minor": 2
}
