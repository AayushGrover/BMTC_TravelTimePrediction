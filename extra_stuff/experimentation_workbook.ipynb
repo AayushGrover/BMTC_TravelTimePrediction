{
 "cells": [
  {
   "cell_type": "code",
   "execution_count": 1,
   "metadata": {},
   "outputs": [
    {
     "name": "stderr",
     "output_type": "stream",
     "text": [
      "/home/aditya/Courses/sem5/ml/tutorials/ve_for_ml/lib/python3.5/importlib/_bootstrap.py:222: RuntimeWarning: numpy.dtype size changed, may indicate binary incompatibility. Expected 96, got 88\n",
      "  return f(*args, **kwds)\n",
      "/home/aditya/Courses/sem5/ml/tutorials/ve_for_ml/lib/python3.5/importlib/_bootstrap.py:222: RuntimeWarning: numpy.dtype size changed, may indicate binary incompatibility. Expected 96, got 88\n",
      "  return f(*args, **kwds)\n"
     ]
    }
   ],
   "source": [
    "import pandas as pd\n",
    "#dask can be used for parallelizing\n",
    "#its built on top of numpy, pandas and scikit learn"
   ]
  },
  {
   "cell_type": "code",
   "execution_count": 5,
   "metadata": {},
   "outputs": [],
   "source": [
    "size = 4000 # the number of lines that are being read\n",
    "\n",
    "reader = pd.read_csv(\"BMTC_Dataset/w1.csv\", chunksize = size)"
   ]
  },
  {
   "cell_type": "code",
   "execution_count": 24,
   "metadata": {},
   "outputs": [
    {
     "data": {
      "text/html": [
       "<div>\n",
       "<style scoped>\n",
       "    .dataframe tbody tr th:only-of-type {\n",
       "        vertical-align: middle;\n",
       "    }\n",
       "\n",
       "    .dataframe tbody tr th {\n",
       "        vertical-align: top;\n",
       "    }\n",
       "\n",
       "    .dataframe thead th {\n",
       "        text-align: right;\n",
       "    }\n",
       "</style>\n",
       "<table border=\"1\" class=\"dataframe\">\n",
       "  <thead>\n",
       "    <tr style=\"text-align: right;\">\n",
       "      <th></th>\n",
       "      <th>bus_id</th>\n",
       "      <th>lat</th>\n",
       "      <th>long</th>\n",
       "      <th>time</th>\n",
       "    </tr>\n",
       "  </thead>\n",
       "  <tbody>\n",
       "    <tr>\n",
       "      <th>0</th>\n",
       "      <td>150221231</td>\n",
       "      <td>13.021009</td>\n",
       "      <td>77.384201</td>\n",
       "      <td>2016-07-01 00:00:05</td>\n",
       "    </tr>\n",
       "    <tr>\n",
       "      <th>1</th>\n",
       "      <td>150222576</td>\n",
       "      <td>13.011129</td>\n",
       "      <td>77.507111</td>\n",
       "      <td>2016-07-01 00:00:04</td>\n",
       "    </tr>\n",
       "    <tr>\n",
       "      <th>2</th>\n",
       "      <td>150219632</td>\n",
       "      <td>13.025680</td>\n",
       "      <td>77.632195</td>\n",
       "      <td>2016-07-01 00:00:09</td>\n",
       "    </tr>\n",
       "    <tr>\n",
       "      <th>3</th>\n",
       "      <td>150218881</td>\n",
       "      <td>13.018722</td>\n",
       "      <td>77.555565</td>\n",
       "      <td>2016-07-01 00:00:10</td>\n",
       "    </tr>\n",
       "    <tr>\n",
       "      <th>4</th>\n",
       "      <td>150219930</td>\n",
       "      <td>13.018051</td>\n",
       "      <td>77.555817</td>\n",
       "      <td>2016-07-01 00:00:11</td>\n",
       "    </tr>\n",
       "  </tbody>\n",
       "</table>\n",
       "</div>"
      ],
      "text/plain": [
       "      bus_id        lat       long                 time\n",
       "0  150221231  13.021009  77.384201  2016-07-01 00:00:05\n",
       "1  150222576  13.011129  77.507111  2016-07-01 00:00:04\n",
       "2  150219632  13.025680  77.632195  2016-07-01 00:00:09\n",
       "3  150218881  13.018722  77.555565  2016-07-01 00:00:10\n",
       "4  150219930  13.018051  77.555817  2016-07-01 00:00:11"
      ]
     },
     "execution_count": 24,
     "metadata": {},
     "output_type": "execute_result"
    }
   ],
   "source": [
    "# chunk = next(reader)\n",
    "\n",
    "#the real question now i guess is how do i process non-associative functions\n",
    "\n",
    "chunk.head()\n",
    "chunk.columns = ['bus_id','lat','long','something_1','something_2','time']\n",
    "chunk.head()\n",
    "chunk.to_csv(\"BMTC_Dataset/new_file_with_column_names.csv\",columns = ['bus_id','lat','long','something_1','something_2','time'],mode = 'a')#give headers as none for other chunk writes\n",
    "chunk2 = chunk.drop(columns = ['something_1',\"something_2\"])\n",
    "chunk2.head()"
   ]
  },
  {
   "cell_type": "code",
   "execution_count": null,
   "metadata": {},
   "outputs": [],
   "source": []
  }
 ],
 "metadata": {
  "kernelspec": {
   "display_name": "Python 3",
   "language": "python",
   "name": "python3"
  },
  "language_info": {
   "codemirror_mode": {
    "name": "ipython",
    "version": 3
   },
   "file_extension": ".py",
   "mimetype": "text/x-python",
   "name": "python",
   "nbconvert_exporter": "python",
   "pygments_lexer": "ipython3",
   "version": "3.5.2"
  }
 },
 "nbformat": 4,
 "nbformat_minor": 2
}
