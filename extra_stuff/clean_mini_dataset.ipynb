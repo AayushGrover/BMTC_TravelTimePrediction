{
 "cells": [
  {
   "cell_type": "code",
   "execution_count": 8,
   "metadata": {},
   "outputs": [],
   "source": [
    "import pandas as pd"
   ]
  },
  {
   "cell_type": "code",
   "execution_count": 9,
   "metadata": {},
   "outputs": [],
   "source": [
    "%store -r PATH_TO_DATA_FOLDER\n",
    "\n",
    "data = pd.read_csv(PATH_TO_DATA_FOLDER+\"/data_chunk_1.csv\")\n",
    "\n",
    "# full_data = pd.read_csv(PATH_TO_DATA_FOLDER+\"/reduced_columns.csv\",chunksize=10)\n",
    "# chunk = next(full_data)\n",
    "# chunk.head"
   ]
  },
  {
   "cell_type": "code",
   "execution_count": 10,
   "metadata": {
    "scrolled": true
   },
   "outputs": [
    {
     "data": {
      "text/plain": [
       "Index(['bus_id', 'lat', 'long', 'time'], dtype='object')"
      ]
     },
     "execution_count": 10,
     "metadata": {},
     "output_type": "execute_result"
    }
   ],
   "source": [
    "data.columns\n",
    "# new_frame =  data.drop('Unnamed: 0',axis=1)\n",
    "# new_frame.to_csv(PATH_TO_DATA_FOLDER+\"/data_chunk_1.csv\",index=False)"
   ]
  },
  {
   "cell_type": "code",
   "execution_count": 11,
   "metadata": {},
   "outputs": [
    {
     "data": {
      "text/plain": [
       "Index(['bus_id', 'lat', 'long', 'time'], dtype='object')"
      ]
     },
     "execution_count": 11,
     "metadata": {},
     "output_type": "execute_result"
    }
   ],
   "source": [
    "data.columns"
   ]
  },
  {
   "cell_type": "code",
   "execution_count": 12,
   "metadata": {},
   "outputs": [
    {
     "name": "stdout",
     "output_type": "stream",
     "text": [
      "13.121761499975001\n",
      "80.55436582497501\n"
     ]
    }
   ],
   "source": [
    "print(data.lat.mean())\n",
    "print(data.long.mean())"
   ]
  },
  {
   "cell_type": "code",
   "execution_count": 13,
   "metadata": {},
   "outputs": [
    {
     "data": {
      "text/plain": [
       "(400,)"
      ]
     },
     "execution_count": 13,
     "metadata": {},
     "output_type": "execute_result"
    }
   ],
   "source": [
    "data.bus_id.unique().shape"
   ]
  },
  {
   "cell_type": "code",
   "execution_count": 14,
   "metadata": {},
   "outputs": [
    {
     "data": {
      "text/plain": [
       "['2016-07-01', '00:01:03']"
      ]
     },
     "execution_count": 14,
     "metadata": {},
     "output_type": "execute_result"
    }
   ],
   "source": [
    "data.head()\n",
    "data.time[0].split()\n"
   ]
  },
  {
   "cell_type": "code",
   "execution_count": 25,
   "metadata": {},
   "outputs": [
    {
     "name": "stdout",
     "output_type": "stream",
     "text": [
      "13.121761499975001\n",
      "80.55436582497501\n",
      "count    400.000000\n",
      "mean      13.121761\n",
      "std        5.695504\n",
      "min        0.000000\n",
      "25%       12.919502\n",
      "50%       12.966616\n",
      "75%       13.018760\n",
      "max      100.000000\n",
      "Name: lat, dtype: float64\n",
      "count     400.000000\n",
      "mean       80.554366\n",
      "std        62.058616\n",
      "min         0.000000\n",
      "25%        77.536640\n",
      "50%        77.585838\n",
      "75%        77.634634\n",
      "max      1000.000000\n",
      "Name: long, dtype: float64\n"
     ]
    }
   ],
   "source": [
    "# print(data.lat.describe())\n",
    "# print(data.long.describe())\n",
    "# print(data.lat.mean)\n",
    "print((data.lat.describe()[\"mean\"]))\n",
    "print((data.long.describe()[\"mean\"]))\n",
    "print((data.lat.describe()))\n",
    "print((data.long.describe()))"
   ]
  },
  {
   "cell_type": "code",
   "execution_count": 42,
   "metadata": {},
   "outputs": [
    {
     "name": "stdout",
     "output_type": "stream",
     "text": [
      "             bus_id         lat         long\n",
      "count  3.930000e+02  393.000000   393.000000\n",
      "mean   1.504179e+08   13.355482    81.989176\n",
      "std    2.794590e+05    5.467048    61.661215\n",
      "min    1.502181e+08   12.680088    77.394203\n",
      "25%    1.502201e+08   12.920876    77.537109\n",
      "50%    1.502218e+08   12.976646    77.586082\n",
      "75%    1.508114e+08   13.018923    77.634689\n",
      "max    1.508148e+08  100.000000  1000.000000\n",
      "             bus_id         lat         long\n",
      "count  3.930000e+02  393.000000   393.000000\n",
      "mean   1.504179e+08   13.355482    81.989176\n",
      "std    2.794590e+05    5.467048    61.661215\n",
      "min    1.502181e+08   12.680088    77.394203\n",
      "25%    1.502201e+08   12.920876    77.537109\n",
      "50%    1.502218e+08   12.976646    77.586082\n",
      "75%    1.508114e+08   13.018923    77.634689\n",
      "max    1.508148e+08  100.000000  1000.000000\n",
      "13.355482442722646\n",
      "             bus_id         lat        long\n",
      "count  3.910000e+02  391.000000  391.000000\n",
      "mean   1.504174e+08   12.969171   77.595080\n",
      "std    2.792901e+05    0.086997    0.082799\n",
      "min    1.502181e+08   12.680088   77.394203\n",
      "25%    1.502201e+08   12.920704   77.537064\n",
      "50%    1.502218e+08   12.974773   77.585938\n",
      "75%    1.508114e+08   13.018783   77.634640\n",
      "max    1.508148e+08   13.300202   77.862457\n",
      "             bus_id         lat        long\n",
      "count  3.910000e+02  391.000000  391.000000\n",
      "mean   1.504174e+08   12.969171   77.595080\n",
      "std    2.792901e+05    0.086997    0.082799\n",
      "min    1.502181e+08   12.680088   77.394203\n",
      "25%    1.502201e+08   12.920704   77.537064\n",
      "50%    1.502218e+08   12.974773   77.585938\n",
      "75%    1.508114e+08   13.018783   77.634640\n",
      "max    1.508148e+08   13.300202   77.862457\n"
     ]
    }
   ],
   "source": [
    "lat_nullfree = data[data.lat != 0.0]\n",
    "lat_long_nullfree = data[data.long != 0.0]\n",
    "print(lat_nullfree.describe())\n",
    "print(lat_long_nullfree.describe())\n",
    "print(lat_long_nullfree.mean()[\"lat\"])\n",
    "\n",
    "lat_mean = lat_long_nullfree.mean()[\"lat\"]\n",
    "long_mean = lat_long_nullfree.mean()[\"long\"]\n",
    "\n",
    "lat_error = 10\n",
    "long_error = 10\n",
    "\n",
    "lat_proper = lat_long_nullfree[abs(lat_long_nullfree.lat - lat_mean) < lat_error]\n",
    "print(lat_proper.describe())\n",
    "\n",
    "#just in case the error is only in the long\n",
    "lat_long_proper = lat_proper[abs(lat_proper.long - long_mean) < long_error]\n",
    "print(lat_long_proper.describe())"
   ]
  },
  {
   "cell_type": "code",
   "execution_count": 16,
   "metadata": {},
   "outputs": [
    {
     "name": "stdout",
     "output_type": "stream",
     "text": [
      "        bus_id  lat  long                 time\n",
      "12   150219324  0.0   0.0  2016-07-01 00:01:14\n",
      "23   150222996  0.0   0.0  2016-07-01 00:00:42\n",
      "94   150219272  0.0   0.0  2016-07-01 00:01:09\n",
      "194  150221659  0.0   0.0  2016-07-01 00:01:17\n",
      "223  150814149  0.0   0.0  2016-07-01 00:01:08\n",
      "258  150220674  0.0   0.0  2016-07-01 00:01:09\n",
      "272  150810531  0.0   0.0  2016-07-01 00:01:14\n"
     ]
    },
    {
     "ename": "KeyError",
     "evalue": "\"['bus_id' 'lat' 'long' 'time'] not found in axis\"",
     "output_type": "error",
     "traceback": [
      "\u001b[0;31m---------------------------------------------------------------------------\u001b[0m",
      "\u001b[0;31mKeyError\u001b[0m                                  Traceback (most recent call last)",
      "\u001b[0;32m<ipython-input-16-7bcc4d89dfcb>\u001b[0m in \u001b[0;36m<module>\u001b[0;34m()\u001b[0m\n\u001b[1;32m      2\u001b[0m \u001b[0mzero_rows\u001b[0m \u001b[0;34m=\u001b[0m \u001b[0mdata\u001b[0m\u001b[0;34m.\u001b[0m\u001b[0mloc\u001b[0m\u001b[0;34m[\u001b[0m\u001b[0;34m(\u001b[0m\u001b[0mdata\u001b[0m\u001b[0;34m[\u001b[0m\u001b[0;34m\"long\"\u001b[0m\u001b[0;34m]\u001b[0m \u001b[0;34m==\u001b[0m \u001b[0;36m0\u001b[0m\u001b[0;34m)\u001b[0m \u001b[0;34m|\u001b[0m \u001b[0;34m(\u001b[0m\u001b[0mdata\u001b[0m\u001b[0;34m[\u001b[0m\u001b[0;34m\"lat\"\u001b[0m\u001b[0;34m]\u001b[0m \u001b[0;34m==\u001b[0m \u001b[0;36m0\u001b[0m\u001b[0;34m)\u001b[0m\u001b[0;34m]\u001b[0m\u001b[0;34m\u001b[0m\u001b[0m\n\u001b[1;32m      3\u001b[0m \u001b[0mprint\u001b[0m\u001b[0;34m(\u001b[0m\u001b[0mzero_rows\u001b[0m\u001b[0;34m)\u001b[0m\u001b[0;34m\u001b[0m\u001b[0m\n\u001b[0;32m----> 4\u001b[0;31m \u001b[0mdata\u001b[0m\u001b[0;34m.\u001b[0m\u001b[0mdrop\u001b[0m\u001b[0;34m(\u001b[0m\u001b[0mzero_rows\u001b[0m\u001b[0;34m)\u001b[0m\u001b[0;34m\u001b[0m\u001b[0m\n\u001b[0m",
      "\u001b[0;32m~/Courses/sem5/ml/tutorials/ve_for_ml/lib/python3.5/site-packages/pandas/core/frame.py\u001b[0m in \u001b[0;36mdrop\u001b[0;34m(self, labels, axis, index, columns, level, inplace, errors)\u001b[0m\n\u001b[1;32m   3695\u001b[0m                                            \u001b[0mindex\u001b[0m\u001b[0;34m=\u001b[0m\u001b[0mindex\u001b[0m\u001b[0;34m,\u001b[0m \u001b[0mcolumns\u001b[0m\u001b[0;34m=\u001b[0m\u001b[0mcolumns\u001b[0m\u001b[0;34m,\u001b[0m\u001b[0;34m\u001b[0m\u001b[0m\n\u001b[1;32m   3696\u001b[0m                                            \u001b[0mlevel\u001b[0m\u001b[0;34m=\u001b[0m\u001b[0mlevel\u001b[0m\u001b[0;34m,\u001b[0m \u001b[0minplace\u001b[0m\u001b[0;34m=\u001b[0m\u001b[0minplace\u001b[0m\u001b[0;34m,\u001b[0m\u001b[0;34m\u001b[0m\u001b[0m\n\u001b[0;32m-> 3697\u001b[0;31m                                            errors=errors)\n\u001b[0m\u001b[1;32m   3698\u001b[0m \u001b[0;34m\u001b[0m\u001b[0m\n\u001b[1;32m   3699\u001b[0m     @rewrite_axis_style_signature('mapper', [('copy', True),\n",
      "\u001b[0;32m~/Courses/sem5/ml/tutorials/ve_for_ml/lib/python3.5/site-packages/pandas/core/generic.py\u001b[0m in \u001b[0;36mdrop\u001b[0;34m(self, labels, axis, index, columns, level, inplace, errors)\u001b[0m\n\u001b[1;32m   3109\u001b[0m         \u001b[0;32mfor\u001b[0m \u001b[0maxis\u001b[0m\u001b[0;34m,\u001b[0m \u001b[0mlabels\u001b[0m \u001b[0;32min\u001b[0m \u001b[0maxes\u001b[0m\u001b[0;34m.\u001b[0m\u001b[0mitems\u001b[0m\u001b[0;34m(\u001b[0m\u001b[0;34m)\u001b[0m\u001b[0;34m:\u001b[0m\u001b[0;34m\u001b[0m\u001b[0m\n\u001b[1;32m   3110\u001b[0m             \u001b[0;32mif\u001b[0m \u001b[0mlabels\u001b[0m \u001b[0;32mis\u001b[0m \u001b[0;32mnot\u001b[0m \u001b[0;32mNone\u001b[0m\u001b[0;34m:\u001b[0m\u001b[0;34m\u001b[0m\u001b[0m\n\u001b[0;32m-> 3111\u001b[0;31m                 \u001b[0mobj\u001b[0m \u001b[0;34m=\u001b[0m \u001b[0mobj\u001b[0m\u001b[0;34m.\u001b[0m\u001b[0m_drop_axis\u001b[0m\u001b[0;34m(\u001b[0m\u001b[0mlabels\u001b[0m\u001b[0;34m,\u001b[0m \u001b[0maxis\u001b[0m\u001b[0;34m,\u001b[0m \u001b[0mlevel\u001b[0m\u001b[0;34m=\u001b[0m\u001b[0mlevel\u001b[0m\u001b[0;34m,\u001b[0m \u001b[0merrors\u001b[0m\u001b[0;34m=\u001b[0m\u001b[0merrors\u001b[0m\u001b[0;34m)\u001b[0m\u001b[0;34m\u001b[0m\u001b[0m\n\u001b[0m\u001b[1;32m   3112\u001b[0m \u001b[0;34m\u001b[0m\u001b[0m\n\u001b[1;32m   3113\u001b[0m         \u001b[0;32mif\u001b[0m \u001b[0minplace\u001b[0m\u001b[0;34m:\u001b[0m\u001b[0;34m\u001b[0m\u001b[0m\n",
      "\u001b[0;32m~/Courses/sem5/ml/tutorials/ve_for_ml/lib/python3.5/site-packages/pandas/core/generic.py\u001b[0m in \u001b[0;36m_drop_axis\u001b[0;34m(self, labels, axis, level, errors)\u001b[0m\n\u001b[1;32m   3141\u001b[0m                 \u001b[0mnew_axis\u001b[0m \u001b[0;34m=\u001b[0m \u001b[0maxis\u001b[0m\u001b[0;34m.\u001b[0m\u001b[0mdrop\u001b[0m\u001b[0;34m(\u001b[0m\u001b[0mlabels\u001b[0m\u001b[0;34m,\u001b[0m \u001b[0mlevel\u001b[0m\u001b[0;34m=\u001b[0m\u001b[0mlevel\u001b[0m\u001b[0;34m,\u001b[0m \u001b[0merrors\u001b[0m\u001b[0;34m=\u001b[0m\u001b[0merrors\u001b[0m\u001b[0;34m)\u001b[0m\u001b[0;34m\u001b[0m\u001b[0m\n\u001b[1;32m   3142\u001b[0m             \u001b[0;32melse\u001b[0m\u001b[0;34m:\u001b[0m\u001b[0;34m\u001b[0m\u001b[0m\n\u001b[0;32m-> 3143\u001b[0;31m                 \u001b[0mnew_axis\u001b[0m \u001b[0;34m=\u001b[0m \u001b[0maxis\u001b[0m\u001b[0;34m.\u001b[0m\u001b[0mdrop\u001b[0m\u001b[0;34m(\u001b[0m\u001b[0mlabels\u001b[0m\u001b[0;34m,\u001b[0m \u001b[0merrors\u001b[0m\u001b[0;34m=\u001b[0m\u001b[0merrors\u001b[0m\u001b[0;34m)\u001b[0m\u001b[0;34m\u001b[0m\u001b[0m\n\u001b[0m\u001b[1;32m   3144\u001b[0m             \u001b[0mresult\u001b[0m \u001b[0;34m=\u001b[0m \u001b[0mself\u001b[0m\u001b[0;34m.\u001b[0m\u001b[0mreindex\u001b[0m\u001b[0;34m(\u001b[0m\u001b[0;34m**\u001b[0m\u001b[0;34m{\u001b[0m\u001b[0maxis_name\u001b[0m\u001b[0;34m:\u001b[0m \u001b[0mnew_axis\u001b[0m\u001b[0;34m}\u001b[0m\u001b[0;34m)\u001b[0m\u001b[0;34m\u001b[0m\u001b[0m\n\u001b[1;32m   3145\u001b[0m \u001b[0;34m\u001b[0m\u001b[0m\n",
      "\u001b[0;32m~/Courses/sem5/ml/tutorials/ve_for_ml/lib/python3.5/site-packages/pandas/core/indexes/base.py\u001b[0m in \u001b[0;36mdrop\u001b[0;34m(self, labels, errors)\u001b[0m\n\u001b[1;32m   4402\u001b[0m             \u001b[0;32mif\u001b[0m \u001b[0merrors\u001b[0m \u001b[0;34m!=\u001b[0m \u001b[0;34m'ignore'\u001b[0m\u001b[0;34m:\u001b[0m\u001b[0;34m\u001b[0m\u001b[0m\n\u001b[1;32m   4403\u001b[0m                 raise KeyError(\n\u001b[0;32m-> 4404\u001b[0;31m                     '{} not found in axis'.format(labels[mask]))\n\u001b[0m\u001b[1;32m   4405\u001b[0m             \u001b[0mindexer\u001b[0m \u001b[0;34m=\u001b[0m \u001b[0mindexer\u001b[0m\u001b[0;34m[\u001b[0m\u001b[0;34m~\u001b[0m\u001b[0mmask\u001b[0m\u001b[0;34m]\u001b[0m\u001b[0;34m\u001b[0m\u001b[0m\n\u001b[1;32m   4406\u001b[0m         \u001b[0;32mreturn\u001b[0m \u001b[0mself\u001b[0m\u001b[0;34m.\u001b[0m\u001b[0mdelete\u001b[0m\u001b[0;34m(\u001b[0m\u001b[0mindexer\u001b[0m\u001b[0;34m)\u001b[0m\u001b[0;34m\u001b[0m\u001b[0m\n",
      "\u001b[0;31mKeyError\u001b[0m: \"['bus_id' 'lat' 'long' 'time'] not found in axis\""
     ]
    }
   ],
   "source": [
    "# data.long == 0\n",
    "zero_rows = data.loc[(data[\"long\"] == 0) | (data[\"lat\"] == 0)]\n",
    "print(zero_rows)\n",
    "data.drop(zero_rows)"
   ]
  },
  {
   "cell_type": "code",
   "execution_count": 40,
   "metadata": {},
   "outputs": [
    {
     "data": {
      "text/plain": [
       "10"
      ]
     },
     "execution_count": 40,
     "metadata": {},
     "output_type": "execute_result"
    }
   ],
   "source": [
    "abs(-10)"
   ]
  }
 ],
 "metadata": {
  "kernelspec": {
   "display_name": "Python 3",
   "language": "python",
   "name": "python3"
  },
  "language_info": {
   "codemirror_mode": {
    "name": "ipython",
    "version": 3
   },
   "file_extension": ".py",
   "mimetype": "text/x-python",
   "name": "python",
   "nbconvert_exporter": "python",
   "pygments_lexer": "ipython3",
   "version": "3.5.2"
  }
 },
 "nbformat": 4,
 "nbformat_minor": 2
}
