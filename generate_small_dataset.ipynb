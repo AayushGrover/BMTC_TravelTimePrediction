{
 "cells": [
  {
   "cell_type": "code",
   "execution_count": 1,
   "metadata": {},
   "outputs": [
    {
     "name": "stderr",
     "output_type": "stream",
     "text": [
      "/home/aditya/Courses/sem5/ml/tutorials/ve_for_ml/lib/python3.5/importlib/_bootstrap.py:222: RuntimeWarning: numpy.dtype size changed, may indicate binary incompatibility. Expected 96, got 88\n",
      "  return f(*args, **kwds)\n",
      "/home/aditya/Courses/sem5/ml/tutorials/ve_for_ml/lib/python3.5/importlib/_bootstrap.py:222: RuntimeWarning: numpy.dtype size changed, may indicate binary incompatibility. Expected 96, got 88\n",
      "  return f(*args, **kwds)\n"
     ]
    }
   ],
   "source": [
    "import pandas as pd\n",
    "import os\n",
    "\n",
    "%store -r PATH_TO_DATA_FOLDER\n",
    "\n",
    "file_reader = pd.read_csv(PATH_TO_DATA_FOLDER+\"/reduced_columns.csv\", chunksize = 400)#read 400 lines\n",
    "\n",
    "data_chunk = next(file_reader)\n",
    "\n",
    "data_chunk.to_csv(PATH_TO_DATA_FOLDER + \"/mini_dataset.csv\",columns = ['bus_id','lat','long','time'],mode = 'a')"
   ]
  }
 ],
 "metadata": {
  "kernelspec": {
   "display_name": "Python 3",
   "language": "python",
   "name": "python3"
  },
  "language_info": {
   "codemirror_mode": {
    "name": "ipython",
    "version": 3
   },
   "file_extension": ".py",
   "mimetype": "text/x-python",
   "name": "python",
   "nbconvert_exporter": "python",
   "pygments_lexer": "ipython3",
   "version": "3.5.2"
  }
 },
 "nbformat": 4,
 "nbformat_minor": 2
}
